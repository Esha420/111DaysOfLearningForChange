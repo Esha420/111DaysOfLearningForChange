{
 "cells": [
  {
   "cell_type": "code",
   "execution_count": 55,
   "id": "60918e99-4c58-4851-a71c-869e4b298b28",
   "metadata": {},
   "outputs": [
    {
     "name": "stdout",
     "output_type": "stream",
     "text": [
      "String1\n",
      "String2\n",
      " This is\n",
      "string 1\n",
      "S\n",
      "1\n",
      "1gnirtS\n",
      "MLtring1\n",
      " It is\n",
      "string 1\n",
      "15\n",
      "MLTRING1\n",
      "It is\n",
      "string 1\n"
     ]
    }
   ],
   "source": [
    "### Data Structures\n",
    "## String\n",
    "s1 = \"String1\"\n",
    "s2 = \"String2\"\n",
    "print(s1)\n",
    "print(s2)\n",
    "\n",
    "str1 = ''' This is\n",
    "string 1'''\n",
    "print(str1)\n",
    "\n",
    "print(s1[0])\n",
    "print(s1[-1])\n",
    "print(s1[::-1])\n",
    "\n",
    "s1 = \"ML\" + s1[1:]\n",
    "print(s1)\n",
    "\n",
    "str1 = str1.replace(\"This\", \"It\")\n",
    "print(str1)\n",
    "\n",
    "print(len(str1))\n",
    "\n",
    "print(s1.upper())\n",
    "\n",
    "print(str1.strip())\n"
   ]
  },
  {
   "cell_type": "code",
   "execution_count": 75,
   "id": "c1bd112d-50da-475b-ac2c-ff9650b9ba46",
   "metadata": {},
   "outputs": [
    {
     "name": "stdout",
     "output_type": "stream",
     "text": [
      "[1, 2, 3, 4, 5, ['apple', 'banana', 'cherry'], 'apple', 'banana', ['apple', 'banana', 'cherry'], 'cherry']\n",
      "['apple', 'banana', 'cherry']\n",
      "[1, 'hello', 3.14, True]\n"
     ]
    }
   ],
   "source": [
    "# Python List\n",
    "# List of integers\n",
    "a = [1, 2, 3, 4, 5]\n",
    "\n",
    "# List of strings\n",
    "b = ['apple', 'banana', 'cherry']\n",
    "\n",
    "# Mixed data types\n",
    "c = [1, 'hello', 3.14, True]\n",
    "\n",
    "a.append(b)\n",
    "a.extend(b)\n",
    "a.insert(-1, b)\n",
    "print(a)\n",
    "print(b)\n",
    "print(c)\n",
    "\n",
    "\n"
   ]
  },
  {
   "cell_type": "code",
   "execution_count": null,
   "id": "baf4a781-5d99-4acf-bfb4-93f9b2be1485",
   "metadata": {},
   "outputs": [],
   "source": []
  }
 ],
 "metadata": {
  "kernelspec": {
   "display_name": "Python 3 (base)",
   "language": "python",
   "name": "python3"
  },
  "language_info": {
   "codemirror_mode": {
    "name": "ipython",
    "version": 3
   },
   "file_extension": ".py",
   "mimetype": "text/x-python",
   "name": "python",
   "nbconvert_exporter": "python",
   "pygments_lexer": "ipython3",
   "version": "3.12.3"
  }
 },
 "nbformat": 4,
 "nbformat_minor": 5
}
